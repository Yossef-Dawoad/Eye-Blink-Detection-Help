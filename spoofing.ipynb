{
 "cells": [
  {
   "cell_type": "code",
   "execution_count": 15,
   "id": "9a6b3cae",
   "metadata": {},
   "outputs": [],
   "source": [
    "import cv2\n",
    "import cvzone\n",
    "from cvzone.FaceMeshModule import FaceMeshDetector\n",
    "from cvzone.PlotModule import LivePlot\n",
    "import numpy as np\n",
    "path=r\"D:\\New folder (5)\\Video.mp4\"\n",
    "cap = cv2.VideoCapture(path)\n",
    "detector = FaceMeshDetector(maxFaces=1)\n",
    "plotY = LivePlot(640, 360, [20, 50], invert=True)\n",
    "idList = [22, 23, 24, 26, 110, 157, 158, 159, 160, 161, 130, 243]\n",
    "ratioList = []\n",
    "blinkCounter = 0\n",
    "counter = 0\n",
    "color = (255, 0, 0)\n",
    "blank = np.zeros((500, 500, 1), dtype = \"uint8\")\n",
    "lable=[]\n",
    "while True:\n",
    "    if cap.get(cv2.CAP_PROP_POS_FRAMES) == cap.get(cv2.CAP_PROP_FRAME_COUNT):\n",
    "        cap.set(cv2.CAP_PROP_POS_FRAMES, 0)\n",
    "    success, img = cap.read()\n",
    "    #img=cv2.imread(r'D:\\DWONLAOD\\dwon\\sample-result-1.png')\n",
    "    img, faces = detector.findFaceMesh(img, draw=True)\n",
    "    if faces:\n",
    "        face = faces[0]\n",
    "        for id in idList:\n",
    "            cv2.circle(img, face[id], 5,color, cv2.FILLED)\n",
    "        leftUp = face[159]\n",
    "        leftDown = face[23]\n",
    "        leftLeft = face[130]\n",
    "        leftRight = face[243]\n",
    "        lenghtVer, _ = detector.findDistance(leftUp, leftDown)\n",
    "        lenghtHor, _ = detector.findDistance(leftLeft, leftRight)\n",
    "        cv2.line(img, leftUp, leftDown, (255, 200, 0), 3)\n",
    "        cv2.line(img, leftLeft, leftRight, (0, 200, 0), 3)\n",
    "        ratio = int((lenghtVer / lenghtHor) * 100)\n",
    "        ratioList.append(ratio)\n",
    "        if len(ratioList) > 3:\n",
    "            ratioList.pop(0)\n",
    "        ratioAvg = sum(ratioList) / len(ratioList)\n",
    "        if 39<ratioAvg< 43 and counter == 0:\n",
    "            blinkCounter += 1\n",
    "            color = (0,200,0)\n",
    "            counter = 1\n",
    "        if counter != 0:\n",
    "            counter += 1\n",
    "            if counter > 5:\n",
    "                counter = 0\n",
    "                color = (255,0, 255)\n",
    "        cvzone.putTextRect(img, f'Blink Count: {blinkCounter}', (50, 100),\n",
    "                           colorR=color)\n",
    "        if 5<blinkCounter<10:\n",
    "            cvzone.putTextRect(img, 'real ', (50, 150),\n",
    "                   colorR=color)\n",
    "            lable.append('real')\n",
    "        elif blinkCounter>10 :\n",
    "            blinkCounter=0\n",
    "        imgPlot = plotY.update(ratioAvg, color)\n",
    "        img = cv2.resize(img, (640, 360))\n",
    "        imgStack = cvzone.stackImages([img, imgPlot], 2, 1)\n",
    "    else:\n",
    "        img = cv2.resize(img, (640, 360))\n",
    "        imgStack = cvzone.stackImages([img, blank], 2, 1)\n",
    "    cv2.imshow(\"Image\", imgStack)\n",
    "    key=cv2.waitKey(30)\n",
    "    if key == ord('q'):\n",
    "        break\n",
    "cap.release()        \n",
    "cv2.destroyAllWindows()    \n"
   ]
  },
  {
   "cell_type": "code",
   "execution_count": 16,
   "id": "9c9f7459",
   "metadata": {},
   "outputs": [
    {
     "data": {
      "text/plain": [
       "-1"
      ]
     },
     "execution_count": 16,
     "metadata": {},
     "output_type": "execute_result"
    }
   ],
   "source": [
    "cv2.imshow('banlk',blank)\n",
    "cv2.waitKey(0)\n"
   ]
  },
  {
   "cell_type": "markdown",
   "id": "37854546",
   "metadata": {},
   "source": [
    "## "
   ]
  },
  {
   "cell_type": "code",
   "execution_count": null,
   "id": "958c6343",
   "metadata": {},
   "outputs": [],
   "source": []
  }
 ],
 "metadata": {
  "kernelspec": {
   "display_name": "Python 3 (ipykernel)",
   "language": "python",
   "name": "python3"
  },
  "language_info": {
   "codemirror_mode": {
    "name": "ipython",
    "version": 3
   },
   "file_extension": ".py",
   "mimetype": "text/x-python",
   "name": "python",
   "nbconvert_exporter": "python",
   "pygments_lexer": "ipython3",
   "version": "3.9.7"
  }
 },
 "nbformat": 4,
 "nbformat_minor": 5
}
